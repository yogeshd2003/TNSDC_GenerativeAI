{
  "nbformat": 4,
  "nbformat_minor": 0,
  "metadata": {
    "colab": {
      "provenance": []
    },
    "kernelspec": {
      "name": "python3",
      "display_name": "Python 3"
    },
    "language_info": {
      "name": "python"
    }
  },
  "cells": [
    {
      "cell_type": "code",
      "execution_count": 1,
      "metadata": {
        "colab": {
          "base_uri": "https://localhost:8080/"
        },
        "id": "OSbsUGhVlgjO",
        "outputId": "d300315f-4c7c-4cd9-e06c-71d8be1d4918"
      },
      "outputs": [
        {
          "output_type": "stream",
          "name": "stdout",
          "text": [
            "Custom Perfume Details:\n",
            "Perfume 1\n",
            "Floral Notes: Rose\n",
            "Citrus Notes: Lemon\n",
            "Woody Notes: Sandalwood\n",
            "Spicy Notes: Cinnamon\n",
            "Sweet Notes: Vanilla\n"
          ]
        }
      ],
      "source": [
        "class Perfume:\n",
        "    def __init__(self, name, floral_notes, citrus_notes, woody_notes, spicy_notes, sweet_notes):\n",
        "        self.name = name\n",
        "        self.floral_notes = floral_notes\n",
        "        self.citrus_notes = citrus_notes\n",
        "        self.woody_notes = woody_notes\n",
        "        self.spicy_notes = spicy_notes\n",
        "        self.sweet_notes = sweet_notes\n",
        "\n",
        "def create_custom_perfume(name, floral_notes, citrus_notes, woody_notes, spicy_notes, sweet_notes):\n",
        "    return Perfume(name, floral_notes, citrus_notes, woody_notes, spicy_notes, sweet_notes)\n",
        "\n",
        "# Define the perfumes based on the provided notes\n",
        "perfume1 = create_custom_perfume(\"Perfume 1\", \"Rose\", \"Lemon\", \"Sandalwood\", \"Cinnamon\", \"Vanilla\")\n",
        "perfume2 = create_custom_perfume(\"Perfume 2\", \"Jasmine\", \"Orange\", \"Cedarwood\", \"Pepper\", \"Honey\")\n",
        "perfume3 = create_custom_perfume(\"Perfume 3\", \"Lavender\", \"Bergamot\", \"Patchouli\", \"Clove\", \"Sugar\")\n",
        "perfume4 = create_custom_perfume(\"Perfume 4\", \"Lily\", \"Lime\", \"Vetiver\", \"Nutmeg\", \"Caramel\")\n",
        "perfume5 = create_custom_perfume(\"Perfume 5\", \"Gardenia\", \"Grapefruit\", \"Oakmoss\", \"Cardamom\", \"Amber\")\n",
        "\n",
        "# Sample usage:\n",
        "print(\"Custom Perfume Details:\")\n",
        "print(perfume1.name)\n",
        "print(\"Floral Notes:\", perfume1.floral_notes)\n",
        "print(\"Citrus Notes:\", perfume1.citrus_notes)\n",
        "print(\"Woody Notes:\", perfume1.woody_notes)\n",
        "print(\"Spicy Notes:\", perfume1.spicy_notes)\n",
        "print(\"Sweet Notes:\", perfume1.sweet_notes)\n"
      ]
    }
  ]
}